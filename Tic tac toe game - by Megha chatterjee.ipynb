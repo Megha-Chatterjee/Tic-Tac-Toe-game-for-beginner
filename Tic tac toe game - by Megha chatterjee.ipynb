{
 "cells": [
  {
   "cell_type": "code",
   "execution_count": 1,
   "metadata": {},
   "outputs": [],
   "source": [
    "# To print out the board on which the game is to be played.\n",
    "from IPython.display import clear_output\n",
    "def display_board(board):\n",
    "    clear_output()\n",
    "    print (board[1]+':'+board[2]+':'+board[3])\n",
    "    print ('.:.:..')\n",
    "    print (board[4]+':'+board[5]+':'+board[6])\n",
    "    print ('.:.:..')\n",
    "    print (board[7]+':'+board[8]+':'+board[9])"
   ]
  },
  {
   "cell_type": "code",
   "execution_count": 2,
   "metadata": {},
   "outputs": [],
   "source": [
    "# To ask the 'player 1' for his choice of marker.\n",
    "def player1_input():\n",
    "    player1input = 's'\n",
    "    while player1input not in ['X','O']:\n",
    "        player1input = input('Player 1 - Please choose a marker (X/O):')\n",
    "    if player1input == 'X' or player1input == 'O' :\n",
    "        return player1input"
   ]
  },
  {
   "cell_type": "code",
   "execution_count": 3,
   "metadata": {},
   "outputs": [],
   "source": [
    "# Assigning the other marker to 'player 2'.\n",
    "def player2_input():\n",
    "    print ('Player 2 gets the other marker (X/O)')"
   ]
  },
  {
   "cell_type": "code",
   "execution_count": 4,
   "metadata": {},
   "outputs": [],
   "source": [
    "# To check if there is empty space on the board.\n",
    "def space_check(board,position):\n",
    "    return board[position]== ' '"
   ]
  },
  {
   "cell_type": "code",
   "execution_count": 5,
   "metadata": {},
   "outputs": [],
   "source": [
    "# to check if board is full.\n",
    "def fullboard(board):\n",
    "    for i in range(1,10):\n",
    "        if space_check(board, i):\n",
    "            return False\n",
    "    return True"
   ]
  },
  {
   "cell_type": "code",
   "execution_count": 6,
   "metadata": {},
   "outputs": [],
   "source": [
    "# Asking 'player 1' to choose an empty position on the board.\n",
    "def position1choice():\n",
    "    player1position = 0\n",
    "    while player1position not in [1,2,3,4,5,6,7,8,9] or not space_check(board, player1position):\n",
    "        player1position = int(input('player1- choose a position among the available positions'))\n",
    "    return player1position"
   ]
  },
  {
   "cell_type": "code",
   "execution_count": 7,
   "metadata": {},
   "outputs": [],
   "source": [
    "# Asking the player to put the chosen mark.\n",
    "def putmarker(board, position):\n",
    "    userplacement = input ('put the chosen mark')\n",
    "    board[position] = userplacement\n",
    "    return board"
   ]
  },
  {
   "cell_type": "code",
   "execution_count": 8,
   "metadata": {},
   "outputs": [],
   "source": [
    "# Asking 'player 2' to choose an empty position on the board.\n",
    "def position2choice():\n",
    "    player2position = 0\n",
    "    while player2position not in [1,2,3,4,5,6,7,8,9] or not space_check(board, player2position):\n",
    "        player2position = int(input('player2- choose a position among the available positions'))\n",
    "    return player2position"
   ]
  },
  {
   "cell_type": "code",
   "execution_count": 9,
   "metadata": {},
   "outputs": [],
   "source": [
    "# Conditions where the player with X mark would win.\n",
    "def wincheck_X(board):\n",
    "    return ((board [1]== board[2]== board[3] == 'X') or (board [1]== board[4]== board[7] == 'X') or (board [1]== board[5]== board[9] == 'X') or (board [2]== board[5]== board[8] == 'X') or (board[3] == board [6] == board[9] == 'X') or (board [3]== board[5]== board[7] == 'X') or (board [4]== board[5]== board[6] == 'X') or (board [7]== board[8]== board[9] == 'X'))\n",
    "            "
   ]
  },
  {
   "cell_type": "code",
   "execution_count": 10,
   "metadata": {},
   "outputs": [],
   "source": [
    "# Conditions where the player with O mark would win.\n",
    "def wincheck_O (board):\n",
    "    return ((board [1]== board[2]== board[3] == 'O') or (board [1]== board[4]== board[7] == 'O') or (board [1]== board[5]== board[9] == 'O') or (board [2]== board[5]== board[8] == 'O') or (board[3] == board [6] == board[9] == 'O') or (board [3]== board[5]== board[7] == 'O') or (board [4]== board[5]== board[6] == 'O') or (board [7]== board[8]== board[9] == 'O'))\n"
   ]
  },
  {
   "cell_type": "code",
   "execution_count": null,
   "metadata": {},
   "outputs": [
    {
     "name": "stdout",
     "output_type": "stream",
     "text": [
      " : : \n",
      ".:.:..\n",
      " : : \n",
      ".:.:..\n",
      " : : \n"
     ]
    }
   ],
   "source": [
    "print ('Welcome to the superfun game TIC TAC TOE')\n",
    "while True:\n",
    "    player1_input()\n",
    "    player2_input()\n",
    "    play_game = input('Are you ready to play? Enter Yes or No.')\n",
    "    board = [' ']*10\n",
    "    if play_game.lower()[0] == 'y':\n",
    "        game_on = True\n",
    "    else:\n",
    "        game_on = False\n",
    "    while game_on:\n",
    "        print (\"Let's begin the game\")\n",
    "        display_board(board)\n",
    "        position1 = position1choice()\n",
    "        board = putmarker(board,position1)\n",
    "        display_board(board)\n",
    "        if wincheck_X(board):\n",
    "            print ('Player with X mark wins!! Hooray!!!')\n",
    "            break\n",
    "        if wincheck_O(board):\n",
    "            print ('player with O mark wins!! Hooray!!')\n",
    "            break\n",
    "        else:\n",
    "            if fullboard(board):\n",
    "                display_board(board)\n",
    "                print ('The game is draw- You both played well!')\n",
    "                break\n",
    "            else:\n",
    "                print('Player2- get ready!')\n",
    "                position2 = position2choice()\n",
    "                board = putmarker(board, position2)\n",
    "                display_board (board)\n",
    "                if wincheck_X(board):\n",
    "                    print ('Player with X mark wins!! Hooray!!')\n",
    "                    break\n",
    "                if wincheck_O(board):\n",
    "                    print ('player with O mark wins!! Hooray!!')\n",
    "                    break\n",
    "                else:\n",
    "                    if fullboard(board):\n",
    "                        display_board(board)\n",
    "                        print ('The game is draw- You both played well!')\n",
    "                        break\n",
    "    response =  input('Do you want to play again (yes/no)?')\n",
    "    if response == 'yes':\n",
    "        game_on = True\n",
    "    else:\n",
    "        game_on = False\n"
   ]
  },
  {
   "cell_type": "code",
   "execution_count": null,
   "metadata": {},
   "outputs": [],
   "source": []
  }
 ],
 "metadata": {
  "kernelspec": {
   "display_name": "Python 3",
   "language": "python",
   "name": "python3"
  },
  "language_info": {
   "codemirror_mode": {
    "name": "ipython",
    "version": 3
   },
   "file_extension": ".py",
   "mimetype": "text/x-python",
   "name": "python",
   "nbconvert_exporter": "python",
   "pygments_lexer": "ipython3",
   "version": "3.7.6"
  }
 },
 "nbformat": 4,
 "nbformat_minor": 4
}
